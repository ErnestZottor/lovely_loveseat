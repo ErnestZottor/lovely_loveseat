{
 "cells": [
  {
   "cell_type": "code",
   "execution_count": 1,
   "id": "7ecf7a11",
   "metadata": {},
   "outputs": [],
   "source": [
    "lovely_loveseat_description = '''\n",
    "Lovely Loveseat. Tufted polyester blend on wood. 32 inches high x 40 inches wide x 30 inches deep. Red or white. '''\n",
    "\n",
    "lovely_loveseat_price = 254.00\n",
    "\n",
    "stylish_settee_description ='''\n",
    "Stylish Settee. Faux leather on birch. 29.50 inches high x 54.75 inches wide x 28 inches deep. Black.'''\n",
    "\n",
    "stylish_settee_price = 180.50\n",
    "\n",
    "luxurious_lamp_description = '''\n",
    "Luxurious Lamp. Glass and iron. 36 inches tall. Brown with cream shade.\n",
    "'''\n",
    "luxurious_lamp_price = 52.15\n"
   ]
  },
  {
   "cell_type": "code",
   "execution_count": 2,
   "id": "53a4944e",
   "metadata": {},
   "outputs": [],
   "source": [
    "\n",
    "sales_tax = 0.088\n",
    "customer_one_total = 0\n",
    "\n",
    "customer_one_itemization =''\n",
    "customer_one_total+= lovely_loveseat_price\n",
    "\n",
    "customer_one_itemization = lovely_loveseat_description\n",
    "customer_one_total +=stylish_settee_price\n",
    "\n",
    "customer_one_itemization+=luxurious_lamp_description\n",
    "\n",
    "customer_one_tax= customer_one_total* sales_tax\n",
    "customer_one_total += customer_one_tax"
   ]
  },
  {
   "cell_type": "code",
   "execution_count": 4,
   "id": "d5bb1f1c",
   "metadata": {},
   "outputs": [
    {
     "name": "stdout",
     "output_type": "stream",
     "text": [
      "Customer One Items:\n",
      "\n",
      "Lovely Loveseat. Tufted polyester blend on wood. 32 inches high x 40 inches wide x 30 inches deep. Red or white. \n",
      "Luxurious Lamp. Glass and iron. 36 inches tall. Brown with cream shade.\n",
      "\n",
      "Customer One Total:\n",
      "472.736\n"
     ]
    }
   ],
   "source": [
    "print(\"Customer One Items:\")\n",
    "print(customer_one_itemization)\n",
    "print(\"Customer One Total:\")\n",
    "print(customer_one_total)"
   ]
  }
 ],
 "metadata": {
  "kernelspec": {
   "display_name": "Python 3",
   "language": "python",
   "name": "python3"
  },
  "language_info": {
   "codemirror_mode": {
    "name": "ipython",
    "version": 3
   },
   "file_extension": ".py",
   "mimetype": "text/x-python",
   "name": "python",
   "nbconvert_exporter": "python",
   "pygments_lexer": "ipython3",
   "version": "3.8.8"
  }
 },
 "nbformat": 4,
 "nbformat_minor": 5
}
